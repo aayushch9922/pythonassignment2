{
 "cells": [
  {
   "cell_type": "code",
   "execution_count": 1,
   "id": "55454076-954d-49d8-b34e-8c8a1fa0e3ed",
   "metadata": {},
   "outputs": [
    {
     "name": "stdout",
     "output_type": "stream",
     "text": [
      "Original text: aayush\n",
      "Capitalized text: Aayush\n"
     ]
    }
   ],
   "source": [
    "#1. str.capitalize()\n",
    "#Capitalizes the first character.\n",
    "text = \"aayush\"\n",
    "capitalized_text = text.capitalize()\n",
    "\n",
    "print(\"Original text:\", text)\n",
    "print(\"Capitalized text:\", capitalized_text)\n"
   ]
  },
  {
   "cell_type": "code",
   "execution_count": 2,
   "id": "ac2611f5-2630-452c-93bd-cae43a404e8e",
   "metadata": {},
   "outputs": [
    {
     "name": "stdout",
     "output_type": "stream",
     "text": [
      "Both strings are equal (case-insensitive comparison)\n"
     ]
    }
   ],
   "source": [
    "#2. str.casefold()\n",
    "#Converts to lowercase (more aggressive than lower()).\n",
    "text1 = \"Ayush\"\n",
    "text2 = \"AYush\"\n",
    "\n",
    "if text1.casefold() == text2.casefold():\n",
    "    print(\"Both strings are equal (case-insensitive comparison)\")\n",
    "else:\n",
    "    print(\"Strings are not equal\")\n"
   ]
  },
  {
   "cell_type": "code",
   "execution_count": 32,
   "id": "8cd60711-05a9-4c09-becc-035f7b0ff1a4",
   "metadata": {},
   "outputs": [
    {
     "name": "stdout",
     "output_type": "stream",
     "text": [
      "Centered Text: -rohit sir-\n"
     ]
    }
   ],
   "source": [
    "#3.str.center(width, fillchar)\n",
    "#Centers the string within the specified width.\n",
    "text = \"rohit sir\"\n",
    "centered_text = text.center(11, '-')\n",
    "\n",
    "print(\"Centered Text:\", centered_text)\n"
   ]
  },
  {
   "cell_type": "code",
   "execution_count": 3,
   "id": "f50393f7-4fb2-471c-a8cf-b2d7ae871c3d",
   "metadata": {},
   "outputs": [
    {
     "name": "stdout",
     "output_type": "stream",
     "text": [
      "Count in full string: 4\n",
      "Count from index 10: 3\n"
     ]
    }
   ],
   "source": [
    "#4. str.count(sub[, start[, end]])\n",
    "#Returns the number of non-overlapping occurrences of a substring.\n",
    "text = \"I am ayush studying in Ducat education\"\n",
    "\n",
    "count1 = text.count(\"a\")\n",
    "\n",
    "count2 = text.count(\"i\", 10)\n",
    "\n",
    "print(\"Count in full string:\", count1)\n",
    "print(\"Count from index 10:\", count2)\n"
   ]
  },
  {
   "cell_type": "code",
   "execution_count": 34,
   "id": "ce7d1a12-02a4-496a-9b31-2eb7031292a0",
   "metadata": {},
   "outputs": [
    {
     "name": "stdout",
     "output_type": "stream",
     "text": [
      "Original String: Héllo\n",
      "Encoded Bytes: b'H\\xc3\\xa9llo'\n"
     ]
    }
   ],
   "source": [
    "#5. str.encode(encoding=\"utf-8\", errors=\"strict\")\n",
    "#Returns encoded version of the string.\n",
    "text = \"Héllo\"  \n",
    "\n",
    "encoded_text = text.encode(\"utf-8\")\n",
    "\n",
    "print(\"Original String:\", text)\n",
    "print(\"Encoded Bytes:\", encoded_text)\n"
   ]
  },
  {
   "cell_type": "code",
   "execution_count": 4,
   "id": "a6e98543-0387-458b-8ac3-f07472c3e0d4",
   "metadata": {},
   "outputs": [
    {
     "name": "stdout",
     "output_type": "stream",
     "text": [
      "Ends with 'fun': True\n",
      "Substring ends with 'bhavesh': False\n"
     ]
    }
   ],
   "source": [
    "#6. str.endswith(suffix[, start[, end]])\n",
    "#Returns True if the string ends with the specified suffix.\n",
    "\n",
    "text = \"im ayush studying in ducat\"\n",
    "\n",
    "result1 = text.endswith(\"ducat\")\n",
    "\n",
    "result2 = text.endswith(\"bhavesh\", 0, 18)\n",
    "\n",
    "print(\"Ends with 'fun':\", result1)\n",
    "print(\"Substring ends with 'bhavesh':\", result2)\n"
   ]
  },
  {
   "cell_type": "code",
   "execution_count": 5,
   "id": "e5b7b843-9905-4a30-82b2-ee8aa7af1ede",
   "metadata": {},
   "outputs": [
    {
     "name": "stdout",
     "output_type": "stream",
     "text": [
      "Original Text: 'Ayush\\tChaudhary\\tMeerut'\n",
      "Expanded Tabs: 'Ayush   Chaudhary   Meerut'\n"
     ]
    }
   ],
   "source": [
    "#7. str.expandtabs(tabsize=8)\n",
    "#Replaces tabs with spaces.\n",
    "\n",
    "text = \"Ayush\\tChaudhary\\tMeerut\"\n",
    "\n",
    "\n",
    "expanded_text = text.expandtabs(4)\n",
    "\n",
    "print(\"Original Text:\", repr(text))\n",
    "print(\"Expanded Tabs:\", repr(expanded_text))\n"
   ]
  },
  {
   "cell_type": "code",
   "execution_count": 7,
   "id": "1bd0e084-4df6-45d9-829d-0c2066dd445d",
   "metadata": {},
   "outputs": [
    {
     "name": "stdout",
     "output_type": "stream",
     "text": [
      "First 'aayush' found at index: 9\n",
      "Next 'meerut' found at index: 21\n",
      "'ducat' found at index: -1\n"
     ]
    }
   ],
   "source": [
    "#8. str.find(sub[, start[, end]])\n",
    "#Returns the lowest index of the substring; returns -1 if not found.\n",
    "\n",
    "\n",
    "text = \"hey i am aayush from meerut\"\n",
    "\n",
    "\n",
    "index1 = text.find(\"aayush\")\n",
    "\n",
    "\n",
    "index2 = text.find(\"meerut\", 10)\n",
    "\n",
    "\n",
    "index3 = text.find(\"ducat\")\n",
    "\n",
    "print(\"First 'aayush' found at index:\", index1)\n",
    "print(\"Next 'meerut' found at index:\", index2)\n",
    "print(\"'ducat' found at index:\", index3)\n"
   ]
  },
  {
   "cell_type": "code",
   "execution_count": 8,
   "id": "9e34fb6b-4a04-4b86-9445-03344cb6372c",
   "metadata": {},
   "outputs": [
    {
     "name": "stdout",
     "output_type": "stream",
     "text": [
      "My name is aayush and I am 16 years old.\n",
      "Hello, rohit sir! You have 5 new messages.\n"
     ]
    }
   ],
   "source": [
    "#9. str.format(*args, **kwargs)\n",
    "#Formats string using the specified arguments.\n",
    "\n",
    "\n",
    "text1 = \"My name is {} and I am {} years old.\".format(\"aayush\", 16)\n",
    "\n",
    "\n",
    "text2 = \"Hello, {name}! You have {messages} new messages.\".format(name=\"rohit sir\", messages=5)\n",
    "\n",
    "print(text1)\n",
    "print(text2)\n"
   ]
  },
  {
   "cell_type": "code",
   "execution_count": 9,
   "id": "ac0beaa2-2887-493d-80a5-7d362a8dbaf6",
   "metadata": {},
   "outputs": [
    {
     "name": "stdout",
     "output_type": "stream",
     "text": [
      "My name is aayush, I am 21 years old and I live in meeurt.\n"
     ]
    }
   ],
   "source": [
    "#10. str.format_map(mapping)\n",
    "#Formats string using a mapping.\n",
    "\n",
    "\n",
    "info = {\"name\": \"aayush\", \"age\": 21, \"city\": \"meeurt\"}\n",
    "\n",
    "text = \"My name is {name}, I am {age} years old and I live in {city}.\".format_map(info)\n",
    "\n",
    "print(text)\n"
   ]
  },
  {
   "cell_type": "code",
   "execution_count": 40,
   "id": "33b5ac9e-61ff-4690-a2f5-eb6c8ace5930",
   "metadata": {},
   "outputs": [
    {
     "name": "stdout",
     "output_type": "stream",
     "text": [
      "Index of 'Python': 29\n",
      "Index of 'learning': 8\n"
     ]
    }
   ],
   "source": [
    "#11. str.index(sub[, start[, end]])\n",
    "#Like find() but raises ValueError if not found.\n",
    "\n",
    "text = \"Machine learning is fun with Python\"\n",
    "\n",
    "# Find the first occurrence of \"Python\"\n",
    "index1 = text.index(\"Python\")\n",
    "\n",
    "# Find \"learning\" starting from index 0 to 20\n",
    "index2 = text.index(\"learning\", 0, 20)\n",
    "\n",
    "print(\"Index of 'Python':\", index1)\n",
    "print(\"Index of 'learning':\", index2)\n"
   ]
  },
  {
   "cell_type": "code",
   "execution_count": 41,
   "id": "7fe99d52-c920-4f8a-bde8-9bf2a81a5d3a",
   "metadata": {},
   "outputs": [
    {
     "name": "stdout",
     "output_type": "stream",
     "text": [
      "Is 'Python3' alphanumeric?: True\n",
      "Is 'Python 3' alphanumeric?: False\n",
      "Is '7701' alphanumeric?: True\n"
     ]
    }
   ],
   "source": [
    "#12. str.isalnum()\n",
    "#Returns True if all characters are alphanumeric.\n",
    "\n",
    "\n",
    "text1 = \"Python3\"\n",
    "text2 = \"Python 3\"\n",
    "text3 = \"7701\"\n",
    "\n",
    "print(\"Is 'Python3' alphanumeric?:\", text1.isalnum())\n",
    "print(\"Is 'Python 3' alphanumeric?:\", text2.isalnum())\n",
    "print(\"Is '7701' alphanumeric?:\", text3.isalnum())\n"
   ]
  },
  {
   "cell_type": "code",
   "execution_count": 42,
   "id": "18d55961-9525-4da3-8f27-98a3e627bec5",
   "metadata": {},
   "outputs": [
    {
     "name": "stdout",
     "output_type": "stream",
     "text": [
      "Is 'Python' all letters?: True\n",
      "Is 'Python3' all letters?: False\n",
      "Is 'Hello World' all letters?: False\n"
     ]
    }
   ],
   "source": [
    "#13. str.isalpha()\n",
    "#Returns True if all characters are alphabetic.\n",
    "\n",
    "text1 = \"Python\"\n",
    "text2 = \"Python3\"\n",
    "text3 = \"Hello World\"\n",
    "\n",
    "print(\"Is 'Python' all letters?:\", text1.isalpha())\n",
    "print(\"Is 'Python3' all letters?:\", text2.isalpha())\n",
    "print(\"Is 'Hello World' all letters?:\", text3.isalpha())\n"
   ]
  },
  {
   "cell_type": "code",
   "execution_count": 43,
   "id": "0164f5ee-bd67-4a21-a801-25e380fc72a1",
   "metadata": {},
   "outputs": [
    {
     "name": "stdout",
     "output_type": "stream",
     "text": [
      "Is 'Hello123' all ASCII?: True\n",
      "Is 'Héllo' all ASCII?: False\n",
      "Is '你好' all ASCII?: False\n"
     ]
    }
   ],
   "source": [
    "#14. str.isascii()\n",
    "#Returns True if all characters are ASCII.\n",
    "\n",
    "text1 = \"Hello123\"\n",
    "text2 = \"Héllo\"\n",
    "text3 = \"你好\"\n",
    "\n",
    "print(\"Is 'Hello123' all ASCII?:\", text1.isascii())\n",
    "print(\"Is 'Héllo' all ASCII?:\", text2.isascii())\n",
    "print(\"Is '你好' all ASCII?:\", text3.isascii())\n"
   ]
  },
  {
   "cell_type": "code",
   "execution_count": 44,
   "id": "f81a87c3-81e7-400a-96f1-5cc3701a4a4e",
   "metadata": {},
   "outputs": [
    {
     "name": "stdout",
     "output_type": "stream",
     "text": [
      "Is '12345' decimal?: True\n",
      "Is '123.45' decimal?: False\n",
      "Is '१२३' decimal?: True\n",
      "Is '12a45' decimal?: False\n"
     ]
    }
   ],
   "source": [
    "#15. str.isdecimal()\n",
    "#Returns True if all characters are decimal characters.\n",
    "\n",
    "text1 = \"12345\"\n",
    "text2 = \"123.45\"\n",
    "text3 = \"१२३\"     # Hindi digits\n",
    "text4 = \"12a45\"\n",
    "\n",
    "print(\"Is '12345' decimal?:\", text1.isdecimal())\n",
    "print(\"Is '123.45' decimal?:\", text2.isdecimal())\n",
    "print(\"Is '१२३' decimal?:\", text3.isdecimal())\n",
    "print(\"Is '12a45' decimal?:\", text4.isdecimal())\n"
   ]
  },
  {
   "cell_type": "code",
   "execution_count": 45,
   "id": "86ae0e97-f531-4fbd-89ac-26a127836994",
   "metadata": {},
   "outputs": [
    {
     "name": "stdout",
     "output_type": "stream",
     "text": [
      "Is '12345' all digits?: True\n",
      "Is '²³' all digits?: True\n",
      "Is '123.45' all digits?: False\n",
      "Is '12a45' all digits?: False\n"
     ]
    }
   ],
   "source": [
    "#16. str.isdigit()\n",
    "#Returns True if all characters are digits.\n",
    "\n",
    "text1 = \"12345\"\n",
    "text2 = \"²³\"      \n",
    "text3 = \"123.45\"\n",
    "text4 = \"12a45\"\n",
    "\n",
    "print(\"Is '12345' all digits?:\", text1.isdigit())\n",
    "print(\"Is '²³' all digits?:\", text2.isdigit())\n",
    "print(\"Is '123.45' all digits?:\", text3.isdigit())\n",
    "print(\"Is '12a45' all digits?:\", text4.isdigit())\n"
   ]
  },
  {
   "cell_type": "code",
   "execution_count": 46,
   "id": "ff83dde6-4665-4634-bac3-f62c8e593afc",
   "metadata": {},
   "outputs": [
    {
     "name": "stdout",
     "output_type": "stream",
     "text": [
      "Is 'my_variable' a valid identifier?: True\n",
      "Is '2ndValue' a valid identifier?: False\n",
      "Is 'class' a valid identifier?: True\n",
      "Is 'validName' a valid identifier?: True\n"
     ]
    }
   ],
   "source": [
    "#17. str.isidentifier()\n",
    "#Returns True if string is a valid identifier.\n",
    "\n",
    "text1 = \"my_variable\"\n",
    "text2 = \"2ndValue\"\n",
    "text3 = \"class\"\n",
    "text4 = \"validName\"\n",
    "\n",
    "print(\"Is 'my_variable' a valid identifier?:\", text1.isidentifier())\n",
    "print(\"Is '2ndValue' a valid identifier?:\", text2.isidentifier())\n",
    "print(\"Is 'class' a valid identifier?:\", text3.isidentifier())\n",
    "print(\"Is 'validName' a valid identifier?:\", text4.isidentifier())\n"
   ]
  },
  {
   "cell_type": "code",
   "execution_count": 47,
   "id": "a102146d-1325-4fbc-8344-95d72cffe9be",
   "metadata": {},
   "outputs": [
    {
     "name": "stdout",
     "output_type": "stream",
     "text": [
      "Is 'python' all lowercase?: True\n",
      "Is 'Python' all lowercase?: False\n",
      "Is 'python3' all lowercase?: True\n",
      "Is 'hello world!' all lowercase?: True\n"
     ]
    }
   ],
   "source": [
    "#18. str.islower()\n",
    "#Returns True if all characters are lowercase.\n",
    "\n",
    "text1 = \"python\"\n",
    "text2 = \"Python\"\n",
    "text3 = \"python3\"\n",
    "text4 = \"hello world!\"\n",
    "\n",
    "print(\"Is 'python' all lowercase?:\", text1.islower())\n",
    "print(\"Is 'Python' all lowercase?:\", text2.islower())\n",
    "print(\"Is 'python3' all lowercase?:\", text3.islower())\n",
    "print(\"Is 'hello world!' all lowercase?:\", text4.islower())\n"
   ]
  },
  {
   "cell_type": "code",
   "execution_count": 48,
   "id": "7924c8b2-38bc-420f-abbc-bf67686175fb",
   "metadata": {},
   "outputs": [
    {
     "name": "stdout",
     "output_type": "stream",
     "text": [
      "Is '123456' numeric?: True\n",
      "Is '½' numeric?: True\n",
      "Is '٢٣٤' numeric?: True\n",
      "Is '12.34' numeric?: False\n",
      "Is '123abc' numeric?: False\n"
     ]
    }
   ],
   "source": [
    "#19. str.isnumeric()\n",
    "#Returns True if all characters are numeric.\n",
    "\n",
    "\n",
    "text1 = \"123456\"\n",
    "text2 = \"½\"        # Unicode fraction\n",
    "text3 = \"٢٣٤\"      # Arabic-Indic digits\n",
    "text4 = \"12.34\"\n",
    "text5 = \"123abc\"\n",
    "\n",
    "print(\"Is '123456' numeric?:\", text1.isnumeric())\n",
    "print(\"Is '½' numeric?:\", text2.isnumeric())\n",
    "print(\"Is '٢٣٤' numeric?:\", text3.isnumeric())\n",
    "print(\"Is '12.34' numeric?:\", text4.isnumeric())\n",
    "print(\"Is '123abc' numeric?:\", text5.isnumeric())\n",
    "\n"
   ]
  },
  {
   "cell_type": "code",
   "execution_count": 49,
   "id": "3a6998df-b939-4469-9dee-abaf2422792c",
   "metadata": {},
   "outputs": [
    {
     "name": "stdout",
     "output_type": "stream",
     "text": [
      "Is 'Hello, world!' printable?: True\n",
      "Is 'Hello\\nWorld' printable?: False\n",
      "Is '1234@#₹' printable?: True\n",
      "Is space printable?: True\n"
     ]
    }
   ],
   "source": [
    "#20. str.isprintable()\n",
    "#Returns True if all characters are printable.\n",
    "\n",
    "\n",
    "text1 = \"Hello, world!\"         # All printable characters\n",
    "text2 = \"Hello\\nWorld\"          # Contains newline (not printable)\n",
    "text3 = \"1234@#₹\"               # All printable\n",
    "text4 = \" \"                     # Space is printable\n",
    "\n",
    "print(\"Is 'Hello, world!' printable?:\", text1.isprintable())\n",
    "print(\"Is 'Hello\\\\nWorld' printable?:\", text2.isprintable())\n",
    "print(\"Is '1234@#₹' printable?:\", text3.isprintable())\n",
    "print(\"Is space printable?:\", text4.isprintable())\n"
   ]
  },
  {
   "cell_type": "code",
   "execution_count": 50,
   "id": "99d3bd5b-d94c-40f8-8b80-f68ac7dffddf",
   "metadata": {},
   "outputs": [
    {
     "name": "stdout",
     "output_type": "stream",
     "text": [
      "Is '   ' only whitespace?: True\n",
      "Is '\\t\\n' only whitespace?: True\n",
      "Is 'Hello' only whitespace?: False\n",
      "Is '  Hello  ' only whitespace?: False\n"
     ]
    }
   ],
   "source": [
    "#21. str.isspace()\n",
    "#Returns True if all characters are whitespace.\n",
    "\n",
    "\n",
    "text1 = \"   \"        # Only spaces\n",
    "text2 = \"\\t\\n\"       # Tab and newline (also space-like)\n",
    "text3 = \"Hello\"\n",
    "text4 = \"  Hello  \"\n",
    "\n",
    "print(\"Is '   ' only whitespace?:\", text1.isspace())\n",
    "print(\"Is '\\\\t\\\\n' only whitespace?:\", text2.isspace())\n",
    "print(\"Is 'Hello' only whitespace?:\", text3.isspace())\n",
    "print(\"Is '  Hello  ' only whitespace?:\", text4.isspace())\n"
   ]
  },
  {
   "cell_type": "code",
   "execution_count": 51,
   "id": "8696b12d-3eee-41fd-a8de-5aa0dad6239b",
   "metadata": {},
   "outputs": [
    {
     "name": "stdout",
     "output_type": "stream",
     "text": [
      "Is 'This Is A Title' title case?: True\n",
      "Is 'This is a Title' title case?: False\n",
      "Is 'THIS IS A TITLE' title case?: False\n",
      "Is 'Python3 Rocks' title case?: True\n"
     ]
    }
   ],
   "source": [
    "#22. str.istitle()\n",
    "#Returns True if the string is titlecased.\n",
    "\n",
    "\n",
    "text1 = \"This Is A Title\"\n",
    "text2 = \"This is a Title\"\n",
    "text3 = \"THIS IS A TITLE\"\n",
    "text4 = \"Python3 Rocks\"\n",
    "\n",
    "print(\"Is 'This Is A Title' title case?:\", text1.istitle())\n",
    "print(\"Is 'This is a Title' title case?:\", text2.istitle())\n",
    "print(\"Is 'THIS IS A TITLE' title case?:\", text3.istitle())\n",
    "print(\"Is 'Python3 Rocks' title case?:\", text4.istitle())\n"
   ]
  },
  {
   "cell_type": "code",
   "execution_count": 52,
   "id": "64f35f77-758b-4d68-9bb5-77195c309c84",
   "metadata": {},
   "outputs": [
    {
     "name": "stdout",
     "output_type": "stream",
     "text": [
      "Is 'PYTHON' all uppercase?: True\n",
      "Is 'Python' all uppercase?: False\n",
      "Is 'PYTHON3!' all uppercase?: True\n",
      "Is '123!' all uppercase?: False\n"
     ]
    }
   ],
   "source": [
    "#23. str.isupper() \n",
    "#Returns True if all characters are uppercase.\n",
    "\n",
    "\n",
    "text1 = \"PYTHON\"\n",
    "text2 = \"Python\"\n",
    "text3 = \"PYTHON3!\"\n",
    "text4 = \"123!\"\n",
    "\n",
    "print(\"Is 'PYTHON' all uppercase?:\", text1.isupper())\n",
    "print(\"Is 'Python' all uppercase?:\", text2.isupper())\n",
    "print(\"Is 'PYTHON3!' all uppercase?:\", text3.isupper())\n",
    "print(\"Is '123!' all uppercase?:\", text4.isupper())\n"
   ]
  },
  {
   "cell_type": "code",
   "execution_count": 53,
   "id": "2185c400-7740-476a-bdf9-0458c787891c",
   "metadata": {},
   "outputs": [
    {
     "name": "stdout",
     "output_type": "stream",
     "text": [
      "Joined with space: Python is awesome\n",
      "Joined with dash: Python-is-awesome\n",
      "Joined without space: Pythonisawesome\n"
     ]
    }
   ],
   "source": [
    "#24. str.join(iterable)\n",
    "#Joins elements of an iterable with the string as a separator.\n",
    "\n",
    "\n",
    "words = [\"Python\", \"is\", \"awesome\"]\n",
    "\n",
    "\n",
    "sentence = \" \".join(words)\n",
    "\n",
    "\n",
    "dashed = \"-\".join(words)\n",
    "\n",
    "\n",
    "compact = \"\".join(words)\n",
    "\n",
    "print(\"Joined with space:\", sentence)\n",
    "print(\"Joined with dash:\", dashed)\n",
    "print(\"Joined without space:\", compact)\n"
   ]
  },
  {
   "cell_type": "code",
   "execution_count": 54,
   "id": "f078b1ad-1305-4ff6-a592-d3efca2dad96",
   "metadata": {},
   "outputs": [
    {
     "name": "stdout",
     "output_type": "stream",
     "text": [
      "Left-justified with spaces: 'Hello     '\n",
      "Left-justified with dashes: 'Hello-----'\n"
     ]
    }
   ],
   "source": [
    "#25. str.ljust(width[, fillchar])\n",
    "#Left-justifies the string.\n",
    "\n",
    "text = \"Hello\"\n",
    "\n",
    "\n",
    "left1 = text.ljust(10)\n",
    "\n",
    "\n",
    "left2 = text.ljust(10, '-')\n",
    "\n",
    "print(\"Left-justified with spaces:\", repr(left1))\n",
    "print(\"Left-justified with dashes:\", repr(left2))\n"
   ]
  },
  {
   "cell_type": "code",
   "execution_count": 55,
   "id": "c3db3292-c27d-4a79-ad77-13e1b42cfd1c",
   "metadata": {},
   "outputs": [
    {
     "name": "stdout",
     "output_type": "stream",
     "text": [
      "Lowercase 1: bhavesh malik\n",
      "Lowercase 2: python is fun\n"
     ]
    }
   ],
   "source": [
    "#26. str.lower()\n",
    "#Converts to lowercase.\n",
    "\n",
    "text1 = \"BHAVESH MALIK\"\n",
    "text2 = \"Python Is FUN\"\n",
    "\n",
    "lower1 = text1.lower()\n",
    "lower2 = text2.lower()\n",
    "\n",
    "print(\"Lowercase 1:\", lower1)\n",
    "print(\"Lowercase 2:\", lower2)\n"
   ]
  },
  {
   "cell_type": "code",
   "execution_count": 56,
   "id": "98a75095-632e-4c77-8d80-c11c3da2946d",
   "metadata": {},
   "outputs": [
    {
     "name": "stdout",
     "output_type": "stream",
     "text": [
      "After lstrip (spaces): 'Hello'\n",
      "After lstrip ('-'): 'Python---'\n",
      "After lstrip ('xy'): 'Hello'\n"
     ]
    }
   ],
   "source": [
    "#27. str.lstrip([chars])\n",
    "#Removes leading characters (default: whitespace).\n",
    "\n",
    "\n",
    "text1 = \"   Hello\"\n",
    "text2 = \"---Python---\"\n",
    "text3 = \"xyxxyHello\"\n",
    "\n",
    "# Remove leading whitespace\n",
    "strip1 = text1.lstrip()\n",
    "\n",
    "# Remove leading '-' characters\n",
    "strip2 = text2.lstrip(\"-\")\n",
    "\n",
    "# Remove leading 'x' and 'y' characters\n",
    "strip3 = text3.lstrip(\"xy\")\n",
    "\n",
    "print(\"After lstrip (spaces):\", repr(strip1))\n",
    "print(\"After lstrip ('-'):\", repr(strip2))\n",
    "print(\"After lstrip ('xy'):\", repr(strip3))\n"
   ]
  },
  {
   "cell_type": "code",
   "execution_count": 57,
   "id": "25698617-3882-4719-85f9-b43b48d7dc09",
   "metadata": {},
   "outputs": [
    {
     "name": "stdout",
     "output_type": "stream",
     "text": [
      "Original text: email is awesome\n",
      "Translated text: 3m@1l 1s @w3som3\n"
     ]
    }
   ],
   "source": [
    "#28. str.maketrans(x, y=None, z=None)\n",
    "#Returns a translation table.\n",
    "\n",
    "\n",
    "# Replace 'a' with '@', 'e' with '3', 'i' with '1'\n",
    "trans_table = str.maketrans(\"aei\", \"@31\")\n",
    "\n",
    "text = \"email is awesome\"\n",
    "translated = text.translate(trans_table)\n",
    "\n",
    "print(\"Original text:\", text)\n",
    "print(\"Translated text:\", translated)\n"
   ]
  },
  {
   "cell_type": "code",
   "execution_count": 58,
   "id": "35088d1b-6bf3-47fc-808f-d2e3a3168968",
   "metadata": {},
   "outputs": [
    {
     "name": "stdout",
     "output_type": "stream",
     "text": [
      "Partition result 1: ('Python', ' ', 'is awesome')\n",
      "Partition result 2: ('no', '-', 'separator-here')\n"
     ]
    }
   ],
   "source": [
    "#29. str.partition(sep)\n",
    "#Splits the string at the first occurrence of sep.\n",
    "\n",
    "\n",
    "text1 = \"Python is awesome\"\n",
    "text2 = \"no-separator-here\"\n",
    "\n",
    "# Partition using a space\n",
    "part1 = text1.partition(\" \")\n",
    "\n",
    "# Partition using a dash\n",
    "part2 = text2.partition(\"-\")\n",
    "\n",
    "print(\"Partition result 1:\", part1)\n",
    "print(\"Partition result 2:\", part2)\n"
   ]
  },
  {
   "cell_type": "code",
   "execution_count": 59,
   "id": "03544758-923d-4d57-99a3-2e86b38f98b3",
   "metadata": {},
   "outputs": [
    {
     "name": "stdout",
     "output_type": "stream",
     "text": [
      "After removing 'un': happy\n",
      "After removing 're': play\n",
      "Trying to remove 'under': misunderstand\n"
     ]
    }
   ],
   "source": [
    "#30. str.removeprefix(prefix)\n",
    "#Removes the specified prefix if present.\n",
    "\n",
    "\n",
    "text1 = \"unhappy\"\n",
    "text2 = \"replay\"\n",
    "text3 = \"misunderstand\"\n",
    "\n",
    "# Remove specific prefixes\n",
    "result1 = text1.removeprefix(\"un\")\n",
    "result2 = text2.removeprefix(\"re\")\n",
    "result3 = text3.removeprefix(\"under\")  # Not at start, won't remove\n",
    "\n",
    "print(\"After removing 'un':\", result1)\n",
    "print(\"After removing 're':\", result2)\n",
    "print(\"Trying to remove 'under':\", result3)\n"
   ]
  },
  {
   "cell_type": "code",
   "execution_count": 60,
   "id": "f90091b9-40f4-4bb0-97df-86d8d50928df",
   "metadata": {},
   "outputs": [
    {
     "name": "stdout",
     "output_type": "stream",
     "text": [
      "After removing '.txt': filename\n",
      "After removing '.pdf': report_final\n",
      "Trying to remove '_final': data_file_backup\n"
     ]
    }
   ],
   "source": [
    "#31. str.removesuffix(suffix)\n",
    "#Removes the specified suffix if present.\n",
    "\n",
    "\n",
    "text1 = \"filename.txt\"\n",
    "text2 = \"report_final.pdf\"\n",
    "text3 = \"data_file_backup\"\n",
    "\n",
    "# Remove known suffixes\n",
    "result1 = text1.removesuffix(\".txt\")\n",
    "result2 = text2.removesuffix(\".pdf\")\n",
    "result3 = text3.removesuffix(\"_final\")  # Not at end, won't remove\n",
    "\n",
    "print(\"After removing '.txt':\", result1)\n",
    "print(\"After removing '.pdf':\", result2)\n",
    "print(\"Trying to remove '_final':\", result3)\n"
   ]
  },
  {
   "cell_type": "code",
   "execution_count": 61,
   "id": "36397c06-e985-4d9c-a8b5-ce289bbcf37f",
   "metadata": {},
   "outputs": [
    {
     "name": "stdout",
     "output_type": "stream",
     "text": [
      "Replace all: Java is fun. Java is powerful. Java is everywhere.\n",
      "Replace first 2: Java is fun. Java is powerful. Python is everywhere.\n"
     ]
    }
   ],
   "source": [
    "#32. str.replace(old, new[, count])\n",
    "#Returns a copy with all occurrences of a substring replaced.\n",
    "\n",
    "\n",
    "text = \"Python is fun. Python is powerful. Python is everywhere.\"\n",
    "\n",
    "# Replace all occurrences of \"Python\" with \"Java\"\n",
    "result1 = text.replace(\"Python\", \"Java\")\n",
    "\n",
    "# Replace only the first 2 occurrences\n",
    "result2 = text.replace(\"Python\", \"Java\", 2)\n",
    "\n",
    "print(\"Replace all:\", result1)\n",
    "print(\"Replace first 2:\", result2)\n"
   ]
  },
  {
   "cell_type": "code",
   "execution_count": 62,
   "id": "8ef9a9c1-f44f-4ef7-8050-c5c35f8324f8",
   "metadata": {},
   "outputs": [
    {
     "name": "stdout",
     "output_type": "stream",
     "text": [
      "Last 'Python' found at index: 23\n",
      "'Python' in first 25 chars found at index: 0\n"
     ]
    }
   ],
   "source": [
    "#33. str.rfind(sub[, start[, end]])\n",
    "#Returns the highest index of the substring.\n",
    "\n",
    "\n",
    "text = \"Python is powerful and Python is popular\"\n",
    "\n",
    "# Find the last occurrence of \"Python\"\n",
    "last_index = text.rfind(\"Python\")\n",
    "\n",
    "# Find \"Python\" between index 0 and 25\n",
    "partial_index = text.rfind(\"Python\", 0, 25)\n",
    "\n",
    "print(\"Last 'Python' found at index:\", last_index)\n",
    "print(\"'Python' in first 25 chars found at index:\", partial_index)\n"
   ]
  },
  {
   "cell_type": "code",
   "execution_count": 63,
   "id": "f24df5dd-35c7-4a7f-b37e-8f23e39781c3",
   "metadata": {},
   "outputs": [
    {
     "name": "stdout",
     "output_type": "stream",
     "text": [
      "Last 'Python' found at index: 22\n",
      "'Python' in first 25 chars found at index: 0\n"
     ]
    }
   ],
   "source": [
    "#34. str.rindex(sub[, start[, end]])\n",
    "#Like rfind() but raises ValueError if not found.\n",
    "\n",
    "text = \"Python is popular and Python is powerful\"\n",
    "\n",
    "# Find the last occurrence of \"Python\"\n",
    "last_index = text.rindex(\"Python\")\n",
    "\n",
    "# Find \"Python\" in a specific range (0 to 25)\n",
    "partial_index = text.rindex(\"Python\", 0, 25)\n",
    "\n",
    "print(\"Last 'Python' found at index:\", last_index)\n",
    "print(\"'Python' in first 25 chars found at index:\", partial_index)\n"
   ]
  },
  {
   "cell_type": "code",
   "execution_count": 64,
   "id": "4ea0118e-5eff-485a-ada2-b7c7ab9be017",
   "metadata": {},
   "outputs": [
    {
     "name": "stdout",
     "output_type": "stream",
     "text": [
      "Right-justified (spaces): '      Python'\n",
      "Right-justified (dashes): '------Python'\n"
     ]
    }
   ],
   "source": [
    "#35. str.rjust(width[, fillchar])\n",
    "#Right-justifies the string.\n",
    "\n",
    "text = \"Python\"\n",
    "\n",
    "# Right-justify in a field of width 12 (default fill: space)\n",
    "right1 = text.rjust(12)\n",
    "\n",
    "# Right-justify using '-' as fill character\n",
    "right2 = text.rjust(12, '-')\n",
    "\n",
    "print(\"Right-justified (spaces):\", repr(right1))\n",
    "print(\"Right-justified (dashes):\", repr(right2))\n"
   ]
  },
  {
   "cell_type": "code",
   "execution_count": 65,
   "id": "0662b87e-d107-45c6-a4f3-8e44bda30c29",
   "metadata": {},
   "outputs": [
    {
     "name": "stdout",
     "output_type": "stream",
     "text": [
      "Right split (max 2): ['apple,banana', 'grape', 'orange']\n",
      "Default rsplit(): ['one', 'two', 'three']\n"
     ]
    }
   ],
   "source": [
    "#36. str.rsplit(sep=None, maxsplit=-1)\n",
    "#Splits the string from the right.\n",
    "\n",
    "text = \"apple,banana,grape,orange\"\n",
    "\n",
    "# Split from the right using comma\n",
    "split1 = text.rsplit(\",\", 2)  # split max 2 times from right\n",
    "\n",
    "# Using default (no args), behaves like split()\n",
    "split2 = \"  one two   three  \".rsplit()\n",
    "\n",
    "print(\"Right split (max 2):\", split1)\n",
    "print(\"Default rsplit():\", split2)\n"
   ]
  },
  {
   "cell_type": "code",
   "execution_count": 66,
   "id": "b42c45df-50bd-4763-ac7b-98e52014fd92",
   "metadata": {},
   "outputs": [
    {
     "name": "stdout",
     "output_type": "stream",
     "text": [
      "After rstrip (spaces): 'Hello World'\n",
      "After rstrip (commas): 'data.csv'\n"
     ]
    }
   ],
   "source": [
    "#37.str.rstrip([chars])\n",
    "#Removes trailing characters (default: whitespace).\n",
    "\n",
    "text1 = \"Hello World    \"\n",
    "text2 = \"data.csv,,,,,\"\n",
    "\n",
    "# Remove trailing spaces\n",
    "result1 = text1.rstrip()\n",
    "\n",
    "# Remove trailing commas\n",
    "result2 = text2.rstrip(',')\n",
    "\n",
    "print(\"After rstrip (spaces):\", repr(result1))\n",
    "print(\"After rstrip (commas):\", repr(result2))\n"
   ]
  },
  {
   "cell_type": "code",
   "execution_count": 67,
   "id": "9807e17a-2aa1-4a19-b712-1f04ada301c3",
   "metadata": {},
   "outputs": [
    {
     "name": "stdout",
     "output_type": "stream",
     "text": [
      "Split by whitespace: ['apple', 'banana', 'mango', 'orange']\n",
      "Split by '-' (max 2): ['apple', 'banana', 'mango-orange']\n"
     ]
    }
   ],
   "source": [
    "#38. str.split(sep=None, maxsplit=-1)\n",
    "#Splits the string.\n",
    "\n",
    "\n",
    "text1 = \"apple banana mango orange\"\n",
    "text2 = \"apple-banana-mango-orange\"\n",
    "\n",
    "# Default split (whitespace)\n",
    "split1 = text1.split()\n",
    "\n",
    "# Split using '-' and max 2 splits\n",
    "split2 = text2.split(\"-\", 2)\n",
    "\n",
    "print(\"Split by whitespace:\", split1)\n",
    "print(\"Split by '-' (max 2):\", split2)\n"
   ]
  },
  {
   "cell_type": "code",
   "execution_count": 68,
   "id": "a6fdacd1-c9fb-43b7-af2d-ee6ceec3d92f",
   "metadata": {},
   "outputs": [
    {
     "name": "stdout",
     "output_type": "stream",
     "text": [
      "Without newlines: ['Hello', 'Welcome to Python', 'Enjoy coding!']\n",
      "With newlines: ['Hello\\n', 'Welcome to Python\\n', 'Enjoy coding!']\n"
     ]
    }
   ],
   "source": [
    "#39. str.splitlines([keepends])\n",
    "#Splits at line breaks.\n",
    "\n",
    "text = \"Hello\\nWelcome to Python\\nEnjoy coding!\"\n",
    "\n",
    "# Split lines without keeping newline characters\n",
    "lines1 = text.splitlines()\n",
    "\n",
    "# Split lines and keep the newline characters\n",
    "lines2 = text.splitlines(keepends=True)\n",
    "\n",
    "print(\"Without newlines:\", lines1)\n",
    "print(\"With newlines:\", lines2)\n"
   ]
  },
  {
   "cell_type": "code",
   "execution_count": 69,
   "id": "62b110dd-8c74-40f2-8516-d6614600e29c",
   "metadata": {},
   "outputs": [
    {
     "name": "stdout",
     "output_type": "stream",
     "text": [
      "Starts with 'Python'? : True\n",
      "Substring [10:19] starts with 'power'? : True\n"
     ]
    }
   ],
   "source": [
    "#40. str.startswith(prefix[, start[, end]])\n",
    "#Returns True if the string starts with the prefix.\n",
    "\n",
    "text = \"Python is powerful\"\n",
    "\n",
    "# Check if string starts with \"Python\"\n",
    "result1 = text.startswith(\"Python\")\n",
    "\n",
    "# Check within a specific range (start=10, end=19)\n",
    "result2 = text.startswith(\"power\", 10, 19)\n",
    "\n",
    "print(\"Starts with 'Python'? :\", result1)\n",
    "print(\"Substring [10:19] starts with 'power'? :\", result2)\n"
   ]
  },
  {
   "cell_type": "code",
   "execution_count": 70,
   "id": "a3071342-ee69-47c5-8b33-c81d95a0c42f",
   "metadata": {},
   "outputs": [
    {
     "name": "stdout",
     "output_type": "stream",
     "text": [
      "After strip (spaces): 'Hello World'\n",
      "After strip (hyphens): 'Python'\n"
     ]
    }
   ],
   "source": [
    "#41. str.strip([chars])\n",
    "#Removes leading and trailing characters.\n",
    "\n",
    "text1 = \"   Hello World   \"\n",
    "text2 = \"----Python----\"\n",
    "\n",
    "# Remove leading and trailing spaces\n",
    "result1 = text1.strip()\n",
    "\n",
    "# Remove leading and trailing hyphens\n",
    "result2 = text2.strip(\"-\")\n",
    "\n",
    "print(\"After strip (spaces):\", repr(result1))\n",
    "print(\"After strip (hyphens):\", repr(result2))\n"
   ]
  },
  {
   "cell_type": "code",
   "execution_count": 71,
   "id": "29d89a25-8ccd-4b7d-8fc7-7a19b5155dd7",
   "metadata": {},
   "outputs": [
    {
     "name": "stdout",
     "output_type": "stream",
     "text": [
      "Swapped Case 1: hELLO world\n",
      "Swapped Case 2: pYtHoN iS fUn\n"
     ]
    }
   ],
   "source": [
    "#42. str.swapcase()\n",
    "#Swaps case of all characters.\n",
    "\n",
    "text1 = \"Hello WORLD\"\n",
    "text2 = \"PyThOn Is FuN\"\n",
    "\n",
    "# Swap case of all letters\n",
    "swapped1 = text1.swapcase()\n",
    "swapped2 = text2.swapcase()\n",
    "\n",
    "print(\"Swapped Case 1:\", swapped1)\n",
    "print(\"Swapped Case 2:\", swapped2)\n"
   ]
  },
  {
   "cell_type": "code",
   "execution_count": 72,
   "id": "faed6403-1906-48b7-b1be-dcc0fcd0b951",
   "metadata": {},
   "outputs": [
    {
     "name": "stdout",
     "output_type": "stream",
     "text": [
      "Title Case 1: Hello World\n",
      "Title Case 2: Python Is Awesome\n"
     ]
    }
   ],
   "source": [
    "#43. str.title()\n",
    "#Returns a titlecased version of the string.\n",
    "\n",
    "text1 = \"hello world\"\n",
    "text2 = \"python is awesome\"\n",
    "\n",
    "# Convert to title case\n",
    "title1 = text1.title()\n",
    "title2 = text2.title()\n",
    "\n",
    "print(\"Title Case 1:\", title1)\n",
    "print(\"Title Case 2:\", title2)\n"
   ]
  },
  {
   "cell_type": "code",
   "execution_count": 73,
   "id": "dca43d2b-5029-4215-889c-afa236ca0da3",
   "metadata": {},
   "outputs": [
    {
     "name": "stdout",
     "output_type": "stream",
     "text": [
      "Original: abc cab\n",
      "Translated: 123 312\n"
     ]
    }
   ],
   "source": [
    "#44. str.translate(table)\n",
    "#Returns a translated string.\n",
    "\n",
    "\n",
    "# Create translation table: a->1, b->2, c->3\n",
    "trans_table = str.maketrans({'a': '1', 'b': '2', 'c': '3'})\n",
    "\n",
    "text = \"abc cab\"\n",
    "\n",
    "# Apply translation\n",
    "translated = text.translate(trans_table)\n",
    "\n",
    "print(\"Original:\", text)\n",
    "print(\"Translated:\", translated)\n"
   ]
  },
  {
   "cell_type": "code",
   "execution_count": 74,
   "id": "4aa40745-1890-48a1-9d41-2deca4065179",
   "metadata": {},
   "outputs": [
    {
     "name": "stdout",
     "output_type": "stream",
     "text": [
      "Uppercase 1: HELLO WORLD\n",
      "Uppercase 2: PYTHON IS FUN!\n"
     ]
    }
   ],
   "source": [
    "#45. str.upper()\n",
    "#Converts all characters to uppercase.\n",
    "# Example of str.upper()\n",
    "\n",
    "text1 = \"hello world\"\n",
    "text2 = \"Python is Fun!\"\n",
    "\n",
    "# Convert to uppercase\n",
    "upper1 = text1.upper()\n",
    "upper2 = text2.upper()\n",
    "\n",
    "print(\"Uppercase 1:\", upper1)\n",
    "print(\"Uppercase 2:\", upper2)\n"
   ]
  },
  {
   "cell_type": "code",
   "execution_count": 75,
   "id": "a51ecfa2-f631-42f0-85f3-2984279b10af",
   "metadata": {},
   "outputs": [
    {
     "name": "stdout",
     "output_type": "stream",
     "text": [
      "Zero-filled 1: 00042\n",
      "Zero-filled 2: -0015\n"
     ]
    }
   ],
   "source": [
    "#46. str.zfill(width)\n",
    "#Pads the string on the left with zeros.\n",
    "\n",
    "num1 = \"42\"\n",
    "num2 = \"-15\"\n",
    "\n",
    "# Pad with zeros to make the string length at least 5\n",
    "filled1 = num1.zfill(5)\n",
    "filled2 = num2.zfill(5)\n",
    "\n",
    "print(\"Zero-filled 1:\", filled1)\n",
    "print(\"Zero-filled 2:\", filled2)\n"
   ]
  }
 ],
 "metadata": {
  "kernelspec": {
   "display_name": "Python [conda env:base] *",
   "language": "python",
   "name": "conda-base-py"
  },
  "language_info": {
   "codemirror_mode": {
    "name": "ipython",
    "version": 3
   },
   "file_extension": ".py",
   "mimetype": "text/x-python",
   "name": "python",
   "nbconvert_exporter": "python",
   "pygments_lexer": "ipython3",
   "version": "3.13.5"
  }
 },
 "nbformat": 4,
 "nbformat_minor": 5
}
